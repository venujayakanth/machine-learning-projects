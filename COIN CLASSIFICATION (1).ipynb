{
 "cells": [
  {
   "cell_type": "markdown",
   "metadata": {},
   "source": [
    "##### IMPORTING NECESSARY LIBRARIES #######"
   ]
  },
  {
   "cell_type": "code",
   "execution_count": null,
   "metadata": {},
   "outputs": [],
   "source": [
    "import os \n",
    "import cv2 \n",
    "import numpy as np \n",
    "import matplotlib.pyplot as plt \n",
    "import pandas as pd \n",
    "import seaborn as sb"
   ]
  },
  {
   "cell_type": "markdown",
   "metadata": {},
   "source": [
    "###### EXTRACTING FILE FROM THE DIRECTORY ######"
   ]
  },
  {
   "cell_type": "code",
   "execution_count": 2,
   "metadata": {},
   "outputs": [
    {
     "data": {
      "text/plain": [
       "3059"
      ]
     },
     "execution_count": 2,
     "metadata": {},
     "output_type": "execute_result"
    }
   ],
   "source": [
    "Data_path1 = os.listdir('D:/IMARTICUS LEARNING/HACKATHON/COIN DATASET')\n",
    "len(Data_path1)"
   ]
  },
  {
   "cell_type": "markdown",
   "metadata": {},
   "source": [
    "#### CREATING COIN-DATASET AND TARGET VARIABLE(Rs. 5,10,25,59,100 ) ######"
   ]
  },
  {
   "cell_type": "code",
   "execution_count": 4,
   "metadata": {
    "scrolled": true
   },
   "outputs": [
    {
     "name": "stdout",
     "output_type": "stream",
     "text": [
      "[100, 100, 100, 100, 100, 100, 100, 100, 100, 100, 100, 100, 100, 100, 100, 100, 100, 100, 100, 100, 100, 100, 100, 100, 100, 100, 100, 100, 100, 100, 100, 100, 100, 100, 100, 100, 100, 100, 100, 100, 100, 100, 100, 100, 100, 100, 100, 100, 100, 100, 100, 100, 100, 100, 100, 100, 100, 100, 100, 100, 100, 100, 100, 100, 100, 100, 100, 100, 100, 100, 100, 100, 100, 100, 100, 100, 100, 100, 100, 100, 100, 100, 100, 100, 100, 100, 100, 100, 100, 100, 100, 100, 100, 100, 100, 100, 100, 100, 100, 100, 100, 100, 100, 100, 100, 100, 100, 100, 100, 100, 100, 100, 100, 100, 100, 100, 100, 100, 100, 100, 100, 100, 100, 100, 100, 100, 100, 100, 100, 100, 100, 100, 100, 100, 100, 100, 100, 100, 100, 100, 100, 100, 100, 100, 100, 100, 100, 100, 100, 100, 100, 100, 100, 100, 100, 100, 100, 100, 100, 100, 100, 100, 100, 100, 100, 100, 100, 100, 100, 100, 100, 100, 100, 100, 100, 100, 100, 100, 100, 100, 100, 100, 100, 100, 100, 100, 100, 100, 100, 100, 100, 100, 100, 100, 100, 100, 100, 100, 100, 100, 100, 100, 100, 100, 100, 100, 100, 100, 100, 100, 100, 100, 100, 100, 100, 100, 100, 100, 100, 100, 100, 100, 100, 100, 100, 100, 100, 100, 100, 100, 100, 100, 100, 100, 100, 100, 100, 100, 100, 100, 100, 100, 100, 100, 100, 100, 100, 100, 100, 100, 100, 100, 100, 100, 100, 100, 100, 100, 100, 100, 100, 100, 100, 100, 100, 100, 100, 100, 100, 100, 100, 100, 100, 100, 100, 100, 100, 100, 100, 100, 100, 100, 100, 100, 100, 100, 100, 100, 100, 100, 100, 100, 100, 100, 100, 100, 100, 100, 100, 100, 100, 100, 100, 100, 100, 100, 100, 100, 100, 100, 100, 100, 100, 100, 100, 100, 100, 100, 100, 100, 100, 100, 100, 100, 100, 100, 100, 100, 100, 100, 100, 100, 100, 100, 100, 100, 100, 100, 100, 100, 100, 100, 100, 100, 100, 100, 100, 100, 100, 100, 100, 100, 100, 100, 100, 100, 100, 100, 100, 100, 100, 100, 100, 100, 100, 100, 100, 100, 100, 100, 100, 100, 100, 100, 100, 100, 100, 100, 100, 100, 100, 100, 100, 100, 100, 100, 100, 100, 100, 100, 100, 100, 100, 100, 100, 100, 100, 100, 100, 100, 100, 100, 100, 100, 100, 100, 100, 100, 100, 100, 100, 100, 100, 100, 100, 100, 100, 100, 100, 100, 100, 100, 100, 100, 100, 100, 100, 100, 100, 100, 100, 100, 100, 100, 100, 100, 100, 100, 100, 100, 100, 100, 100, 100, 100, 100, 100, 100, 100, 100, 100, 100, 100, 100, 100, 100, 100, 100, 100, 100, 100, 100, 100, 100, 100, 10, 10, 10, 10, 10, 10, 10, 10, 10, 10, 25, 25, 25, 25, 25, 25, 25, 25, 25, 25, 25, 25, 25, 25, 25, 25, 25, 25, 25, 25, 25, 25, 25, 25, 25, 25, 25, 25, 25, 25, 25, 25, 25, 25, 25, 25, 25, 25, 25, 25, 25, 25, 25, 25, 25, 25, 25, 25, 25, 25, 25, 25, 25, 25, 25, 25, 25, 25, 25, 25, 25, 25, 25, 25, 25, 25, 25, 25, 25, 25, 25, 25, 25, 25, 25, 25, 25, 25, 25, 25, 25, 25, 25, 25, 25, 25, 25, 25, 25, 25, 25, 25, 25, 25, 25, 25, 25, 25, 25, 25, 25, 25, 25, 25, 25, 25, 25, 25, 25, 25, 25, 25, 25, 25, 25, 25, 25, 25, 25, 25, 25, 25, 25, 25, 25, 25, 25, 25, 25, 25, 25, 25, 25, 25, 25, 25, 50, 50, 50, 50, 50, 50, 50, 50, 50, 50, 50, 50, 50, 50, 50, 50, 50, 50, 50, 50, 50, 50, 50, 50, 50, 50, 50, 50, 50, 50, 50, 50, 50, 50, 50, 50, 50, 50, 50, 50, 50, 50, 50, 50, 50, 50, 50, 50, 50, 50, 50, 50, 50, 50, 50, 50, 50, 50, 50, 50, 50, 50, 50, 50, 5, 5, 5, 5, 5, 5, 5, 5, 5, 5, 5, 5, 5, 5, 5, 5, 5, 5, 5, 5, 5, 5, 5, 5, 5, 5, 5, 5, 5, 5, 5, 5, 5, 5, 5, 5, 5, 5, 5, 5, 5, 5, 5, 5, 5, 5, 5, 5, 5, 5, 5, 5, 5, 5, 5, 5, 5, 5, 5, 5, 5, 5, 5, 5, 5, 5, 5, 5, 5, 5, 5, 5, 5, 5, 5, 5, 5, 5, 5, 5, 5, 5, 5, 5, 5, 5]\n"
     ]
    }
   ],
   "source": [
    "Target = []\n",
    "Coin_data = []\n",
    "for x in range(0,len(Data_path1)):\n",
    "    #### READING EACH COIN IMAGE FILE ####\n",
    "    img = cv2.imread('D:/IMARTICUS LEARNING/HACKATHON/COIN DATASET/'+ Data_path1[x])\n",
    "    x11 = Data_path1[x][:3]\n",
    "    #### CONVERTING TO GRAYSACE #####\n",
    "    img = cv2.cvtColor(img,cv2.COLOR_BGR2GRAY)  \n",
    "    #### FIND THE CIRCLE (COIN) IN THE IMAGE AS X,Y - CENTRE AND R-RADIUS #####\n",
    "    circle = cv2.HoughCircles(img,cv2.HOUGH_GRADIENT,1,120,50,30,minRadius =5,maxRadius=100)\n",
    "    #### RESHAPE THE (X,Y,R) TO CHECK WHETHER CIRCLE PRESENT OT NOT\n",
    "    circles = circle.reshape(-1,1)\n",
    "    #### IF CIRCLE PRESENT \n",
    "    if circles[0] != 0 and circles[1] !=0 and circles[2] !=0:\n",
    "        #### CENTER(X,Y) OF THE CIRCLE\n",
    "        x = circle[0][0][0]\n",
    "        y = circle[0][0][1]\n",
    "        #### RADIUS OF THE CIRCLE\n",
    "        r = circle[0][0][2]\n",
    "        a = int(y-r)\n",
    "        b = int(y+r)\n",
    "        c = int(x-r)\n",
    "        d = int(x+r)\n",
    "        #### CROP ONLY THE IMAGE THAT CONTAINS THE COIN\n",
    "        img = img[a:b,c:d]\n",
    "        if img.shape[0] !=0  and img.shape[1] !=0:\n",
    "            img = cv2.resize(img,(50,50))\n",
    "            ##### STANDARDIZATION OF ARRAY   ####\n",
    "            img = np.array(img)/255\n",
    "            ##### CONVERT 2D TO 1D #####\n",
    "            img = img.reshape(1,-1)\n",
    "            Coin_data.append(img)\n",
    "            #### CREATING TARGET VARIABLE BY USING THE FILE NAME\n",
    "            if x11 == '5_1':\n",
    "                Target.append(5)\n",
    "            elif x11 == '10_':\n",
    "                Target.append(10)\n",
    "            elif x11 == '25_':\n",
    "                Target.append(25)\n",
    "            elif x11 == '50_':\n",
    "                Target.append(50)\n",
    "            elif x11 == '100':\n",
    "                Target.append(100)\n",
    "print(Target)"
   ]
  },
  {
   "cell_type": "markdown",
   "metadata": {},
   "source": [
    "#### TRAIN TEST SPLIT #####"
   ]
  },
  {
   "cell_type": "code",
   "execution_count": 5,
   "metadata": {},
   "outputs": [],
   "source": [
    "from sklearn.model_selection import train_test_split"
   ]
  },
  {
   "cell_type": "code",
   "execution_count": 59,
   "metadata": {},
   "outputs": [],
   "source": [
    "xtrain,xtest,ytrain,ytest = train_test_split(Coin_data,Target,test_size=0.2,random_state=9)"
   ]
  },
  {
   "cell_type": "markdown",
   "metadata": {},
   "source": [
    "#### CONVERTING THE FEATURE INTO 2D ######"
   ]
  },
  {
   "cell_type": "code",
   "execution_count": 60,
   "metadata": {},
   "outputs": [
    {
     "data": {
      "text/plain": [
       "((608, 2500), (153, 2500))"
      ]
     },
     "execution_count": 60,
     "metadata": {},
     "output_type": "execute_result"
    }
   ],
   "source": [
    "np.array(xtrain).reshape(608,2500).shape, np.array(xtest).reshape(153,2500).shape"
   ]
  },
  {
   "cell_type": "code",
   "execution_count": 61,
   "metadata": {},
   "outputs": [
    {
     "data": {
      "text/plain": [
       "(608,)"
      ]
     },
     "execution_count": 61,
     "metadata": {},
     "output_type": "execute_result"
    }
   ],
   "source": [
    "np.array(ytrain).shape"
   ]
  },
  {
   "cell_type": "markdown",
   "metadata": {},
   "source": [
    "#### FITTING KNN MODEL ####"
   ]
  },
  {
   "cell_type": "code",
   "execution_count": 62,
   "metadata": {},
   "outputs": [],
   "source": [
    "from sklearn.neighbors import KNeighborsClassifier "
   ]
  },
  {
   "cell_type": "code",
   "execution_count": 63,
   "metadata": {},
   "outputs": [],
   "source": [
    "KNN = KNeighborsClassifier(n_neighbors=13)\n",
    "KNNfit = KNN.fit(np.array(xtrain).reshape(608,2500),np.array(ytrain))"
   ]
  },
  {
   "cell_type": "code",
   "execution_count": 64,
   "metadata": {},
   "outputs": [],
   "source": [
    "from sklearn.metrics import accuracy_score,confusion_matrix"
   ]
  },
  {
   "cell_type": "code",
   "execution_count": 65,
   "metadata": {},
   "outputs": [
    {
     "data": {
      "text/plain": [
       "array([[ 1,  0,  9,  0,  1],\n",
       "       [ 0,  0,  1,  0,  0],\n",
       "       [ 0,  0, 22,  0,  7],\n",
       "       [ 0,  0,  5,  0,  7],\n",
       "       [ 0,  0, 13,  0, 87]], dtype=int64)"
      ]
     },
     "execution_count": 65,
     "metadata": {},
     "output_type": "execute_result"
    }
   ],
   "source": [
    "confusion_matrix(ytest,KNNfit.predict(np.array(xtest).reshape(153,2500)))"
   ]
  },
  {
   "cell_type": "code",
   "execution_count": 66,
   "metadata": {},
   "outputs": [
    {
     "data": {
      "text/plain": [
       "0.7189542483660131"
      ]
     },
     "execution_count": 66,
     "metadata": {},
     "output_type": "execute_result"
    }
   ],
   "source": [
    "accuracy_score(ytest,KNNfit.predict(np.array(xtest).reshape(153,2500)))"
   ]
  },
  {
   "cell_type": "markdown",
   "metadata": {},
   "source": [
    "#### MODEL FINE TUNING ######"
   ]
  },
  {
   "cell_type": "code",
   "execution_count": 67,
   "metadata": {},
   "outputs": [
    {
     "name": "stdout",
     "output_type": "stream",
     "text": [
      "0.6339869281045751\n",
      "0.5359477124183006\n",
      "0.6862745098039216\n",
      "0.6339869281045751\n",
      "0.6013071895424836\n",
      "0.6274509803921569\n",
      "0.6013071895424836\n",
      "0.6535947712418301\n",
      "0.7320261437908496\n",
      "0.7058823529411765\n",
      "0.673202614379085\n",
      "0.6993464052287581\n",
      "0.6535947712418301\n",
      "0.7058823529411765\n",
      "0.5555555555555556\n",
      "0.6666666666666666\n",
      "0.6666666666666666\n",
      "0.6862745098039216\n",
      "0.6993464052287581\n",
      "0.673202614379085\n",
      "0.6470588235294118\n",
      "0.6535947712418301\n",
      "0.6862745098039216\n",
      "0.6470588235294118\n",
      "0.6143790849673203\n",
      "0.6274509803921569\n",
      "0.738562091503268\n",
      "0.6928104575163399\n",
      "0.5816993464052288\n"
     ]
    }
   ],
   "source": [
    "#### FINE TUNING BY CHANGING RANDOM STATE #####\n",
    "for x in range(1,30):\n",
    "    xtrain,xtest,ytrain,ytest = train_test_split(Coin_data,Target,test_size=0.2,random_state=x)\n",
    "    KNN = KNeighborsClassifier(n_neighbors=x)\n",
    "    KNNfit = KNN.fit(np.array(xtrain).reshape(608,2500),np.array(ytrain))\n",
    "    print(accuracy_score(ytest,KNNfit.predict(np.array(xtest).reshape(153,2500))))"
   ]
  },
  {
   "cell_type": "code",
   "execution_count": 57,
   "metadata": {},
   "outputs": [
    {
     "name": "stdout",
     "output_type": "stream",
     "text": [
      "0.6470588235294118\n",
      "0.5555555555555556\n",
      "0.6601307189542484\n",
      "0.6339869281045751\n",
      "0.7058823529411765\n",
      "0.6797385620915033\n",
      "0.6993464052287581\n",
      "0.7189542483660131\n",
      "0.7320261437908496\n",
      "0.7254901960784313\n",
      "0.7189542483660131\n",
      "0.7058823529411765\n",
      "0.7189542483660131\n",
      "0.6862745098039216\n",
      "0.6928104575163399\n",
      "0.6862745098039216\n",
      "0.7124183006535948\n",
      "0.6928104575163399\n",
      "0.7058823529411765\n"
     ]
    }
   ],
   "source": [
    "##### FINE TUNING BY CHANGING THE NEIGHBOUR VALUE #####\n",
    "for x in range(1,20):\n",
    "    KNN = KNeighborsClassifier(n_neighbors=x)\n",
    "    KNNfit = KNN.fit(np.array(xtrain).reshape(608,2500),np.array(ytrain))\n",
    "    print(accuracy_score(ytest,KNNfit.predict(np.array(xtest).reshape(153,2500))))"
   ]
  },
  {
   "cell_type": "markdown",
   "metadata": {},
   "source": [
    "# THUS KNN MODEL IS FOUND TO BE BETTER IN PREDICTING THE COIN WITH AN ACCURACY SCORE OF 72 PER CENT"
   ]
  },
  {
   "cell_type": "code",
   "execution_count": null,
   "metadata": {},
   "outputs": [],
   "source": []
  }
 ],
 "metadata": {
  "kernelspec": {
   "display_name": "Python 3",
   "language": "python",
   "name": "python3"
  },
  "language_info": {
   "codemirror_mode": {
    "name": "ipython",
    "version": 3
   },
   "file_extension": ".py",
   "mimetype": "text/x-python",
   "name": "python",
   "nbconvert_exporter": "python",
   "pygments_lexer": "ipython3",
   "version": "3.8.8"
  }
 },
 "nbformat": 4,
 "nbformat_minor": 4
}
